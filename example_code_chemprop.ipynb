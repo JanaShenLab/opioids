{
 "cells": [
  {
   "cell_type": "markdown",
   "id": "f151d8a8",
   "metadata": {},
   "source": [
    "# Example code for chemprop runs\n",
    "### Template downloaded from https://github.com/chemprop/chemprop/blob/master/colab_demo.ipynb\n",
    "### Detailed info in https://chemprop.readthedocs.io/"
   ]
  },
  {
   "cell_type": "code",
   "execution_count": null,
   "id": "88299dea",
   "metadata": {},
   "outputs": [],
   "source": [
    "# Training\n",
    "arguments = [\n",
    "    '--data_path', 'data/input.csv',\n",
    "    '--dataset_type', 'classification',\n",
    "    '--metric', 'f1',\n",
    "    '--save_dir', 'eff_checkpoints_cla',\n",
    "    '--epochs', '100',\n",
    "    '--num_folds', '10',\n",
    "    '--features_generator', 'rdkit_2d_normalized', \n",
    "    '--no_features_scaling',\n",
    "    '--save_smiles_splits'\n",
    "]\n",
    "args = chemprop.args.TrainArgs().parse_args(arguments)\n",
    "mean_score, std_score = chemprop.train.cross_validate(args=args, train_func=chemprop.train.run_training)\n",
    "\n",
    "# Predicting\n",
    "arguments = [\n",
    "    '--test_path', 'eff_checkpoints_cla/fold_0/test_smiles.csv',\n",
    "    '--preds_path', 'eff_test_preds_cla.csv',\n",
    "    '--checkpoint_dir', 'eff_checkpoints_cla',\n",
    "    '--features_generator', 'rdkit_2d_normalized', \n",
    "    '--no_features_scaling'\n",
    "]\n",
    "args = chemprop.args.PredictArgs().parse_args(arguments)\n",
    "preds = chemprop.train.make_predictions(args=args)\n",
    "\n",
    "df = pd.read_csv('test_checkpoints_cla/fold_0/test_full.csv')\n",
    "df['preds'] = [x[0] for x in preds]\n",
    "df"
   ]
  }
 ],
 "metadata": {
  "kernelspec": {
   "display_name": "Python 3 (ipykernel)",
   "language": "python",
   "name": "python3"
  },
  "language_info": {
   "codemirror_mode": {
    "name": "ipython",
    "version": 3
   },
   "file_extension": ".py",
   "mimetype": "text/x-python",
   "name": "python",
   "nbconvert_exporter": "python",
   "pygments_lexer": "ipython3",
   "version": "3.9.13"
  }
 },
 "nbformat": 4,
 "nbformat_minor": 5
}
